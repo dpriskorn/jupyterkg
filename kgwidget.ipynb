import ipywidgets as widgets
from ipywidgets import interact, interactive, fixed, interact_manual
from ipywidgets import HBox, VBox, Label

import requests
import numpy as np
import json
import pandas as pd
import urllib.parse

# Define API MediaWiki endpoint
wikidata_api_url = u'https://query.wikidata.org/bigdata/namespace/wdq/sparql'

## Grab all items in Wikidata with Met Object ID (P3634)
# Rewrite URL if needed: BIND ((CONCAT ("[http://www.metmuseum.org/art/collection/search/", ?id, " ", ?inv, "]")) as ?meturl) . 

pop_met_artworks_query = u'''
SELECT ?item ?itemLabel ?linkcount ?metid WHERE { 
  ?item wdt:P3634 ?metid . 
  ?item wdt:P217 ?inv . 
  ?item wikibase:sitelinks ?linkcount . 
  FILTER (?linkcount > 0) .
  SERVICE wikibase:label { bd:serviceParam wikibase:language "[AUTO_LANGUAGE],en". }
} GROUP BY ?item ?itemLabel ?linkcount ?metid  ORDER BY DESC(?linkcount)
'''

pop_met_artists_query = u'''
# Most popular artists in Wikidata that have Met works
SELECT DISTINCT ?creator ?creatorLabel ?linkcount WHERE { 
  ?item wdt:P3634 ?metid . 
  ?item wdt:P170 ?creator . 
  ?creator wikibase:sitelinks ?linkcount . 
  FILTER (?linkcount > 0) .
  SERVICE wikibase:label { bd:serviceParam wikibase:language "[AUTO_LANGUAGE],en". }
} GROUP BY ?creator ?creatorLabel ?linkcount  ORDER BY DESC(?linkcount)
'''

# Replace %s below with a VALUES statement like
#  VALUES ?creator { wd:Q41264 }

creator_depictions_query_template = u'''
# Artists and their works depictions
#defaultView:Graph
SELECT ?item1 ?image1 ?item1Label ?item2 ?image2 ?item2Label ?size ?rgb 
WHERE 
{
 %s
 %s
 { # Get works and instances
  VALUES ?rgb { "FFBD33" }
  VALUES ?size { 2 }
  ?item1 wdt:P170 ?creator .
  %s
  ?item1 wdt:P31 ?item2 .
  OPTIONAL { ?item1 wdt:P18 ?image1. }
 } 
 UNION
 { # Depictions
  VALUES ?rgb { "fff033" }
  VALUES ?size { 1 }
  ?item1 wdt:P170 ?creator .
  %s
  ?item1 wdt:P180 ?item2 .
  OPTIONAL { ?item1 wdt:P18 ?image1. }
 }
 SERVICE wikibase:label { bd:serviceParam wikibase:language "[AUTO_LANGUAGE],en". }
}
'''

creator_values = ''
institution_values = ''
institution_statement = ''

try:
    # Get list of artists with some type of work at The Met
    data = requests.post(wikidata_api_url, data={'query': pop_met_artists_query, 'format': 'json'}).json()
except NameError:
    print ('jsondecode problem.')
    print (data.content)
    raise

resultarray = []
for item in data['results']['bindings']:
    resultarray.append({
        'qid':   str(item['creator']['value'].replace('http://www.wikidata.org/entity/','')),
        'label': str(item['creatorLabel']['value']),
        'linkcount': int(item['linkcount']['value'])
    })

df = pd.DataFrame(resultarray)

def sparql_qidlist_to_values_string(inlist: list) -> str:
    '''
    Converts a list of Q numbers to a VALUES string for SPARQL

    Input: ['wd:Q123', 'wd:Q456', 'wd:Q789']
    Output: '{wd:Q123 wd:Q456 wd:Q789}'
    '''
    try:
        values_string ='{' + ' '.join(x for x in inlist) + '}'
        return values_string
    except:
        print ('Error: making values string')
        return None

def create_widget_tuple_list (labels: list, values: list) -> list:
    '''
    Converts two lists into the list of tuples needed for Jupyter Widgets
    
    Input: 
    labels: ['Label1', 'Label2'...]
    values: ['Value1', 'Value2'...]
    
    Output:
    [('Label1', 'Value1'),...]
    '''
    merged = tuple(zip(labels, values))
    return merged

new_df = pd.DataFrame()
new_df['wdqid'] = df.apply (lambda row: 'wd:'+row['qid'], axis=1)
new_df['label'] = df.apply (lambda row: row['label']+' ('+str(row['linkcount'])+')', axis=1)

creator_options = []
tuple_list = create_widget_tuple_list(new_df['label'].to_list(), new_df['wdqid'].to_list())
creator_options.extend(tuple_list)

# iframecode = '<iframe src=' + graphurl + ' width=900 height=600></iframe>'
iframecode_blank = '<iframe src=' + 'about:blank' + ' width=900 height=600></iframe>'

institution_options = [
    ('All institutions', 'ALL'),
    ('Met Museum', 'wd:Q160236'),
    ('Smithsonian American Art Museum', 'wd:Q1192305'),
    ('National Portrait Gallery (US)','wd:Q1967614'),
    ('Cooper Hewitt','wd:Q1129820'),
    ('Hirshhorn Museum and Sculpture Garden','wd:Q1620553'),
    ('Freer Sackler Gallery','wd:Q105749808'),
    ('National Museum of Arfican Art','wd:Q46812'),
    ('Cleveland Museum of Art','wd:Q657415'),
]

textheader = widgets.HTML(
    value="<H1>Wikidata Graph Browser</H1>",
    placeholder='',
    description='',
)

selector = widgets.SelectMultiple(
    options=creator_options,
    value=[],
    rows=10,
    description='Artists',
    disabled=False
)

institution_selector = widgets.SelectMultiple(
    options=institution_options,
    value=[],
    rows=10,
    description='Institutions',
    disabled=False
)

graphoutput = widgets.HTML(
    value=iframecode_blank,
    placeholder='<p>Waiting for input</p>',
    description='Wikidata output'
)

inartists = ''

query_dict = {
    'creators': [],
    'institutions': []
}

def handle_creators(incoming):
#     print (incoming['new'])
#    creator_depictions_query_template
    query_dict['creators'] = incoming['new']
    draw_kg()
    
def handle_institutions(incoming):
#     print (incoming['new'])
#    creator_depictions_query_template
    if 'ALL' in incoming['new']:
        query_dict['institutions'] = []
    else:
        query_dict['institutions'] = incoming['new']
    draw_kg()
    
def draw_kg():
    creator_values = ''
    institution_values = ''
    institution_statement = ''
    
    if (query_dict['creators']):
        creator_values = 'VALUES ?creator ' + sparql_qidlist_to_values_string(list(query_dict['creators']))
    if (query_dict['institutions']):
        institution_values = 'VALUES ?institution ' + sparql_qidlist_to_values_string(list(query_dict['institutions']))
        institution_statement = '?item1 wdt:P195 ?institution .'

    # Create the SPARQL query
    # WORKS
    # graphurl = creator_depictions_query_template_url.format(values_string)
    
    query = creator_depictions_query_template % \
        (creator_values, institution_values, institution_statement, institution_statement)

    graphurl = 'https://query.wikidata.org/embed.html#' + urllib.parse.quote(query)

    iframecode = '<iframe src=' + graphurl + ' width=900 height=600></iframe>'
    graphoutput.value=iframecode

topbox = HBox([selector, institution_selector])
headerbox = VBox([textheader,topbox])
bottombox = HBox([graphoutput])
bigbox = VBox([headerbox,bottombox])
display(bigbox)

selector.observe(handle_creators, names='value')
institution_selector.observe(handle_institutions, names='value')

from ipywidgets.embed import embed_minimal_html
embed_minimal_html('export.html', views=[bigbox], title='KG')
